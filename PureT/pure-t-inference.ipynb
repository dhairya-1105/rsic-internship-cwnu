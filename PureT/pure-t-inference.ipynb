{
 "cells": [
  {
   "cell_type": "code",
   "execution_count": 1,
   "id": "ca8a1658",
   "metadata": {
    "execution": {
     "iopub.execute_input": "2025-05-28T07:24:48.652190Z",
     "iopub.status.busy": "2025-05-28T07:24:48.651814Z",
     "iopub.status.idle": "2025-05-28T07:24:54.690749Z",
     "shell.execute_reply": "2025-05-28T07:24:54.689848Z"
    },
    "papermill": {
     "duration": 6.044785,
     "end_time": "2025-05-28T07:24:54.692163",
     "exception": false,
     "start_time": "2025-05-28T07:24:48.647378",
     "status": "completed"
    },
    "tags": []
   },
   "outputs": [
    {
     "name": "stdout",
     "output_type": "stream",
     "text": [
      "Collecting pycocoevalcap\r\n",
      "  Downloading pycocoevalcap-1.2-py3-none-any.whl.metadata (3.2 kB)\r\n",
      "Requirement already satisfied: pycocotools>=2.0.2 in /usr/local/lib/python3.11/dist-packages (from pycocoevalcap) (2.0.8)\r\n",
      "Requirement already satisfied: matplotlib>=2.1.0 in /usr/local/lib/python3.11/dist-packages (from pycocotools>=2.0.2->pycocoevalcap) (3.7.2)\r\n",
      "Requirement already satisfied: numpy in /usr/local/lib/python3.11/dist-packages (from pycocotools>=2.0.2->pycocoevalcap) (1.26.4)\r\n",
      "Requirement already satisfied: contourpy>=1.0.1 in /usr/local/lib/python3.11/dist-packages (from matplotlib>=2.1.0->pycocotools>=2.0.2->pycocoevalcap) (1.3.1)\r\n",
      "Requirement already satisfied: cycler>=0.10 in /usr/local/lib/python3.11/dist-packages (from matplotlib>=2.1.0->pycocotools>=2.0.2->pycocoevalcap) (0.12.1)\r\n",
      "Requirement already satisfied: fonttools>=4.22.0 in /usr/local/lib/python3.11/dist-packages (from matplotlib>=2.1.0->pycocotools>=2.0.2->pycocoevalcap) (4.57.0)\r\n",
      "Requirement already satisfied: kiwisolver>=1.0.1 in /usr/local/lib/python3.11/dist-packages (from matplotlib>=2.1.0->pycocotools>=2.0.2->pycocoevalcap) (1.4.8)\r\n",
      "Requirement already satisfied: packaging>=20.0 in /usr/local/lib/python3.11/dist-packages (from matplotlib>=2.1.0->pycocotools>=2.0.2->pycocoevalcap) (25.0)\r\n",
      "Requirement already satisfied: pillow>=6.2.0 in /usr/local/lib/python3.11/dist-packages (from matplotlib>=2.1.0->pycocotools>=2.0.2->pycocoevalcap) (11.1.0)\r\n",
      "Requirement already satisfied: pyparsing<3.1,>=2.3.1 in /usr/local/lib/python3.11/dist-packages (from matplotlib>=2.1.0->pycocotools>=2.0.2->pycocoevalcap) (3.0.9)\r\n",
      "Requirement already satisfied: python-dateutil>=2.7 in /usr/local/lib/python3.11/dist-packages (from matplotlib>=2.1.0->pycocotools>=2.0.2->pycocoevalcap) (2.9.0.post0)\r\n",
      "Requirement already satisfied: mkl_fft in /usr/local/lib/python3.11/dist-packages (from numpy->pycocotools>=2.0.2->pycocoevalcap) (1.3.8)\r\n",
      "Requirement already satisfied: mkl_random in /usr/local/lib/python3.11/dist-packages (from numpy->pycocotools>=2.0.2->pycocoevalcap) (1.2.4)\r\n",
      "Requirement already satisfied: mkl_umath in /usr/local/lib/python3.11/dist-packages (from numpy->pycocotools>=2.0.2->pycocoevalcap) (0.1.1)\r\n",
      "Requirement already satisfied: mkl in /usr/local/lib/python3.11/dist-packages (from numpy->pycocotools>=2.0.2->pycocoevalcap) (2025.1.0)\r\n",
      "Requirement already satisfied: tbb4py in /usr/local/lib/python3.11/dist-packages (from numpy->pycocotools>=2.0.2->pycocoevalcap) (2022.1.0)\r\n",
      "Requirement already satisfied: mkl-service in /usr/local/lib/python3.11/dist-packages (from numpy->pycocotools>=2.0.2->pycocoevalcap) (2.4.1)\r\n",
      "Requirement already satisfied: six>=1.5 in /usr/local/lib/python3.11/dist-packages (from python-dateutil>=2.7->matplotlib>=2.1.0->pycocotools>=2.0.2->pycocoevalcap) (1.17.0)\r\n",
      "Requirement already satisfied: intel-openmp<2026,>=2024 in /usr/local/lib/python3.11/dist-packages (from mkl->numpy->pycocotools>=2.0.2->pycocoevalcap) (2024.2.0)\r\n",
      "Requirement already satisfied: tbb==2022.* in /usr/local/lib/python3.11/dist-packages (from mkl->numpy->pycocotools>=2.0.2->pycocoevalcap) (2022.1.0)\r\n",
      "Requirement already satisfied: tcmlib==1.* in /usr/local/lib/python3.11/dist-packages (from tbb==2022.*->mkl->numpy->pycocotools>=2.0.2->pycocoevalcap) (1.3.0)\r\n",
      "Requirement already satisfied: intel-cmplr-lib-rt in /usr/local/lib/python3.11/dist-packages (from mkl_umath->numpy->pycocotools>=2.0.2->pycocoevalcap) (2024.2.0)\r\n",
      "Requirement already satisfied: intel-cmplr-lib-ur==2024.2.0 in /usr/local/lib/python3.11/dist-packages (from intel-openmp<2026,>=2024->mkl->numpy->pycocotools>=2.0.2->pycocoevalcap) (2024.2.0)\r\n",
      "Downloading pycocoevalcap-1.2-py3-none-any.whl (104.3 MB)\r\n",
      "\u001b[2K   \u001b[90m━━━━━━━━━━━━━━━━━━━━━━━━━━━━━━━━━━━━━━━━\u001b[0m \u001b[32m104.3/104.3 MB\u001b[0m \u001b[31m16.7 MB/s\u001b[0m eta \u001b[36m0:00:00\u001b[0m\r\n",
      "\u001b[?25hInstalling collected packages: pycocoevalcap\r\n",
      "Successfully installed pycocoevalcap-1.2\r\n",
      "Note: you may need to restart the kernel to use updated packages.\n"
     ]
    }
   ],
   "source": [
    "pip install pycocoevalcap"
   ]
  },
  {
   "cell_type": "code",
   "execution_count": 2,
   "id": "6ce7b1d2",
   "metadata": {
    "execution": {
     "iopub.execute_input": "2025-05-28T07:24:54.699764Z",
     "iopub.status.busy": "2025-05-28T07:24:54.699102Z",
     "iopub.status.idle": "2025-05-28T07:24:54.709066Z",
     "shell.execute_reply": "2025-05-28T07:24:54.708569Z"
    },
    "papermill": {
     "duration": 0.014594,
     "end_time": "2025-05-28T07:24:54.710127",
     "exception": false,
     "start_time": "2025-05-28T07:24:54.695533",
     "status": "completed"
    },
    "tags": []
   },
   "outputs": [],
   "source": [
    "import json\n",
    "from pycocoevalcap.bleu.bleu import Bleu\n",
    "from pycocoevalcap.meteor.meteor import Meteor\n",
    "from pycocoevalcap.rouge.rouge import Rouge\n",
    "from pycocoevalcap.cider.cider import Cider"
   ]
  },
  {
   "cell_type": "code",
   "execution_count": 3,
   "id": "8e0a6fdf",
   "metadata": {
    "execution": {
     "iopub.execute_input": "2025-05-28T07:24:54.715827Z",
     "iopub.status.busy": "2025-05-28T07:24:54.715614Z",
     "iopub.status.idle": "2025-05-28T07:24:54.751019Z",
     "shell.execute_reply": "2025-05-28T07:24:54.750521Z"
    },
    "papermill": {
     "duration": 0.039565,
     "end_time": "2025-05-28T07:24:54.752190",
     "exception": false,
     "start_time": "2025-05-28T07:24:54.712625",
     "status": "completed"
    },
    "tags": []
   },
   "outputs": [],
   "source": [
    "# Load predictions and references\n",
    "with open(\"/kaggle/input/pure-t-inference-data/preds_dict.json\") as f:\n",
    "    preds = json.load(f)\n",
    "\n",
    "with open(\"/kaggle/input/pure-t-inference-data/refs_dict.json\") as f:\n",
    "    refs = json.load(f)"
   ]
  },
  {
   "cell_type": "code",
   "execution_count": 4,
   "id": "bd2359f4",
   "metadata": {
    "execution": {
     "iopub.execute_input": "2025-05-28T07:24:54.758258Z",
     "iopub.status.busy": "2025-05-28T07:24:54.758055Z",
     "iopub.status.idle": "2025-05-28T07:24:54.761815Z",
     "shell.execute_reply": "2025-05-28T07:24:54.761291Z"
    },
    "papermill": {
     "duration": 0.007924,
     "end_time": "2025-05-28T07:24:54.762871",
     "exception": false,
     "start_time": "2025-05-28T07:24:54.754947",
     "status": "completed"
    },
    "tags": []
   },
   "outputs": [],
   "source": [
    "# Flatten nested refs\n",
    "for k in refs:\n",
    "    if isinstance(refs[k][0], list):  # detects and fixes [['a', 'b', 'c']]\n",
    "        refs[k] = refs[k][0]"
   ]
  },
  {
   "cell_type": "code",
   "execution_count": 5,
   "id": "10769541",
   "metadata": {
    "execution": {
     "iopub.execute_input": "2025-05-28T07:24:54.768552Z",
     "iopub.status.busy": "2025-05-28T07:24:54.768359Z",
     "iopub.status.idle": "2025-05-28T07:25:07.230322Z",
     "shell.execute_reply": "2025-05-28T07:25:07.229473Z"
    },
    "papermill": {
     "duration": 12.466227,
     "end_time": "2025-05-28T07:25:07.231534",
     "exception": false,
     "start_time": "2025-05-28T07:24:54.765307",
     "status": "completed"
    },
    "tags": []
   },
   "outputs": [
    {
     "name": "stdout",
     "output_type": "stream",
     "text": [
      "{'testlen': 10429, 'reflen': 10523, 'guess': [10429, 9335, 8241, 7147], 'correct': [3158, 567, 131, 46]}\n",
      "ratio: 0.9910671861635473\n",
      "BLEU-1 to BLEU-4: [0.3000924156717238, 0.13440166803486117, 0.06577518628367235, 0.036705104746606015]\n",
      "METEOR: 0.08601742810018875\n",
      "ROUGE-L: 0.21068145351957165\n",
      "CIDEr: 0.15497783996281853\n"
     ]
    }
   ],
   "source": [
    "# Evaluate\n",
    "bleu_scorer = Bleu()\n",
    "meteor_scorer = Meteor()\n",
    "rouge_scorer = Rouge()\n",
    "cider_scorer = Cider()\n",
    "\n",
    "bleu, _ = bleu_scorer.compute_score(refs, preds)\n",
    "meteor, _ = meteor_scorer.compute_score(refs, preds)\n",
    "rouge, _ = rouge_scorer.compute_score(refs, preds)\n",
    "cider, _ = cider_scorer.compute_score(refs, preds)\n",
    "\n",
    "print(\"BLEU-1 to BLEU-4:\", bleu)\n",
    "print(\"METEOR:\", meteor)\n",
    "print(\"ROUGE-L:\", rouge)\n",
    "print(\"CIDEr:\", cider)"
   ]
  }
 ],
 "metadata": {
  "kaggle": {
   "accelerator": "nvidiaTeslaT4",
   "dataSources": [
    {
     "datasetId": 7533385,
     "sourceId": 11978896,
     "sourceType": "datasetVersion"
    }
   ],
   "dockerImageVersionId": 31041,
   "isGpuEnabled": true,
   "isInternetEnabled": true,
   "language": "python",
   "sourceType": "notebook"
  },
  "kernelspec": {
   "display_name": "Python 3",
   "language": "python",
   "name": "python3"
  },
  "language_info": {
   "codemirror_mode": {
    "name": "ipython",
    "version": 3
   },
   "file_extension": ".py",
   "mimetype": "text/x-python",
   "name": "python",
   "nbconvert_exporter": "python",
   "pygments_lexer": "ipython3",
   "version": "3.11.11"
  },
  "papermill": {
   "default_parameters": {},
   "duration": 25.633207,
   "end_time": "2025-05-28T07:25:09.851557",
   "environment_variables": {},
   "exception": null,
   "input_path": "__notebook__.ipynb",
   "output_path": "__notebook__.ipynb",
   "parameters": {},
   "start_time": "2025-05-28T07:24:44.218350",
   "version": "2.6.0"
  }
 },
 "nbformat": 4,
 "nbformat_minor": 5
}
